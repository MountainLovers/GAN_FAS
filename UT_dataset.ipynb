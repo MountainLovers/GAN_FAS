{
 "cells": [
  {
   "cell_type": "code",
   "execution_count": 1,
   "id": "55a3210b-2fef-4e8f-8857-9eafb6b70a03",
   "metadata": {},
   "outputs": [],
   "source": [
    "from dataset import AlignedDataset\n",
    "from torch.utils.data import DataLoader\n",
    "from torch import nn\n",
    "import os\n",
    "import torch"
   ]
  },
  {
   "cell_type": "code",
   "execution_count": 2,
   "id": "d90bec9c-0cd6-478c-aa62-c9650aa987e2",
   "metadata": {},
   "outputs": [],
   "source": [
    "train_file_list = \"/mnt/hdd.user/datasets/FAS/Oulu-NPU/Protocols/Protocol_1/Train_proto.txt\"\n",
    "train_batch_size = 1\n",
    "train_dataset = AlignedDataset(train_file_list) \n",
    "train_data_loader = DataLoader(train_dataset, batch_size=train_batch_size,\n",
    "                                    shuffle = True,num_workers=1)"
   ]
  },
  {
   "cell_type": "code",
   "execution_count": 3,
   "id": "fa006a78-51ba-4ace-9cc5-ff3f1db3af1f",
   "metadata": {},
   "outputs": [
    {
     "data": {
      "text/plain": [
       "1439"
      ]
     },
     "execution_count": 3,
     "metadata": {},
     "output_type": "execute_result"
    }
   ],
   "source": [
    "len(train_data_loader)"
   ]
  },
  {
   "cell_type": "code",
   "execution_count": 4,
   "id": "7902673d-a30c-426f-8d5e-7801608826c8",
   "metadata": {},
   "outputs": [
    {
     "name": "stdout",
     "output_type": "stream",
     "text": [
      "torch.Size([1, 3, 121, 128, 128])\n",
      "torch.Size([1, 121])\n",
      "0\n"
     ]
    }
   ],
   "source": [
    "for i, data in enumerate(train_data_loader):\n",
    "    print(data['A'].shape)\n",
    "    print(data['B'].shape)\n",
    "    print(i)\n",
    "    break\n",
    "\n",
    "# print(train_data_loader[0]['A'])"
   ]
  },
  {
   "cell_type": "code",
   "execution_count": 6,
   "id": "821bf602-3d7d-4c03-805f-d72bddad8440",
   "metadata": {},
   "outputs": [],
   "source": [
    "l = []\n",
    "for i in range(10):\n",
    "    x = torch.randn(3, 128, 128)\n",
    "    l.append(x)\n",
    "\n",
    "y = torch.stack(l, dim=1)"
   ]
  },
  {
   "cell_type": "code",
   "execution_count": 7,
   "id": "ded50b1c-e944-4725-a30b-f81307e81ce9",
   "metadata": {},
   "outputs": [
    {
     "data": {
      "text/plain": [
       "torch.Size([3, 10, 128, 128])"
      ]
     },
     "execution_count": 7,
     "metadata": {},
     "output_type": "execute_result"
    }
   ],
   "source": [
    "y.shape"
   ]
  },
  {
   "cell_type": "code",
   "execution_count": null,
   "id": "c5460c04-c92d-4b3b-a6de-26259eee24f9",
   "metadata": {},
   "outputs": [],
   "source": []
  }
 ],
 "metadata": {
  "kernelspec": {
   "display_name": "Python 3",
   "language": "python",
   "name": "python3"
  },
  "language_info": {
   "codemirror_mode": {
    "name": "ipython",
    "version": 3
   },
   "file_extension": ".py",
   "mimetype": "text/x-python",
   "name": "python",
   "nbconvert_exporter": "python",
   "pygments_lexer": "ipython3",
   "version": "3.8.10"
  }
 },
 "nbformat": 4,
 "nbformat_minor": 5
}
