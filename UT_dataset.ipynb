{
 "cells": [
  {
   "cell_type": "code",
   "execution_count": 1,
   "id": "55a3210b-2fef-4e8f-8857-9eafb6b70a03",
   "metadata": {},
   "outputs": [],
   "source": [
    "from dataset import AlignedDataset\n",
    "from torch.utils.data import DataLoader\n",
    "from torch import nn\n",
    "import os\n",
    "import torch"
   ]
  },
  {
   "cell_type": "code",
   "execution_count": 2,
   "id": "d90bec9c-0cd6-478c-aa62-c9650aa987e2",
   "metadata": {},
   "outputs": [],
   "source": [
    "train_file_list = \"/mnt/hdd.user/datasets/FAS/Oulu-NPU/Protocols/Protocol_2/Train_32_proto.txt\"\n",
    "train_batch_size = 1\n",
    "train_dataset = AlignedDataset(train_file_list) \n",
    "train_data_loader = DataLoader(train_dataset, batch_size=train_batch_size,\n",
    "                                    shuffle = False,num_workers=1)"
   ]
  },
  {
   "cell_type": "code",
   "execution_count": 3,
   "id": "b742f9b8-3138-4c37-bc51-6e8b0542ab83",
   "metadata": {},
   "outputs": [],
   "source": [
    "dev_file_list = \"/mnt/hdd.user/datasets/FAS/Oulu-NPU/Protocols/Protocol_2/Dev_32_proto.txt\"\n",
    "dev_batch_size = 1\n",
    "dev_dataset = AlignedDataset(dev_file_list) \n",
    "dev_data_loader = DataLoader(dev_dataset, batch_size=dev_batch_size,\n",
    "                                    shuffle = False,num_workers=1)"
   ]
  },
  {
   "cell_type": "code",
   "execution_count": 14,
   "id": "e3cb1196-f0da-4c32-80e8-6c010e0e7b19",
   "metadata": {},
   "outputs": [],
   "source": [
    "test_file_list = \"/mnt/hdd.user/datasets/FAS/Oulu-NPU/Protocols/Protocol_2/Test_32_proto.txt\"\n",
    "test_batch_size = 1\n",
    "test_dataset = AlignedDataset(test_file_list) \n",
    "test_data_loader = DataLoader(test_dataset, batch_size=test_batch_size,\n",
    "                                    shuffle = False,num_workers=1)"
   ]
  },
  {
   "cell_type": "code",
   "execution_count": 5,
   "id": "fa006a78-51ba-4ace-9cc5-ff3f1db3af1f",
   "metadata": {},
   "outputs": [
    {
     "name": "stdout",
     "output_type": "stream",
     "text": [
      "1440\n",
      "1080\n",
      "1440\n"
     ]
    }
   ],
   "source": [
    "print(len(train_data_loader))\n",
    "print(len(dev_data_loader))\n",
    "print(len(test_data_loader))"
   ]
  },
  {
   "cell_type": "code",
   "execution_count": 15,
   "id": "7902673d-a30c-426f-8d5e-7801608826c8",
   "metadata": {
    "scrolled": true,
    "tags": []
   },
   "outputs": [],
   "source": [
    "for i, data in enumerate(test_data_loader):\n",
    "#     if (True or data['A'].shape[2] != 64):\n",
    "# #         print(data['A'])\n",
    "#         print(data['A'].shape)\n",
    "#         print(data['B'].shape)\n",
    "#         print(data['A'].dtype)\n",
    "#         print(data['B'].dtype)\n",
    "#         print(data['A_paths'])\n",
    "    if (data['A'].shape[2] != 64):\n",
    "        print(i)\n",
    "        print(data['A'].shape)\n",
    "        print(data['A_paths'])\n",
    "        print(\"---------------------------------------\")"
   ]
  },
  {
   "cell_type": "code",
   "execution_count": null,
   "id": "3324ce32-5b2c-4dbf-8f65-9975c449eab5",
   "metadata": {},
   "outputs": [],
   "source": []
  }
 ],
 "metadata": {
  "kernelspec": {
   "display_name": "Python 3",
   "language": "python",
   "name": "python3"
  },
  "language_info": {
   "codemirror_mode": {
    "name": "ipython",
    "version": 3
   },
   "file_extension": ".py",
   "mimetype": "text/x-python",
   "name": "python",
   "nbconvert_exporter": "python",
   "pygments_lexer": "ipython3",
   "version": "3.8.10"
  }
 },
 "nbformat": 4,
 "nbformat_minor": 5
}
