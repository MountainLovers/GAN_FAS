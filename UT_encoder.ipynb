{
 "cells": [
  {
   "cell_type": "code",
   "execution_count": 1,
   "id": "c3464f13-81ab-4172-9751-c8de6203025b",
   "metadata": {},
   "outputs": [],
   "source": [
    "import torch\n",
    "import torch.nn.functional as F\n",
    "from torch import nn\n",
    "from torch.nn import init\n",
    "from torch.nn.modules.utils import _triple\n",
    "import math\n",
    "from dataset import AlignedDataset\n",
    "from networks import Decoder, EncoderResnet, Encoder32\n",
    "from losses import Neg_Pearson\n",
    "from torch.utils.data import DataLoader\n",
    "import os\n",
    "import itertools\n",
    "import numpy as np"
   ]
  },
  {
   "cell_type": "code",
   "execution_count": 2,
   "id": "3bf5511f-0ba5-40e7-ba3f-d211437dd28a",
   "metadata": {},
   "outputs": [],
   "source": [
    "train_file_list = \"/mnt/hdd.user/datasets/FAS/Oulu-NPU/Protocols/Protocol_1/Train_32_proto.txt\"\n",
    "train_batch_size = 1\n",
    "train_dataset = AlignedDataset(train_file_list) \n",
    "train_data_loader = DataLoader(train_dataset, batch_size=train_batch_size,\n",
    "                                    shuffle = False,num_workers=1)"
   ]
  },
  {
   "cell_type": "code",
   "execution_count": 3,
   "id": "ee280ea1-b656-4f63-a994-64f1010ea9b8",
   "metadata": {},
   "outputs": [],
   "source": [
    "lossnp = Neg_Pearson()"
   ]
  },
  {
   "cell_type": "code",
   "execution_count": 3,
   "id": "100e4f1e-5776-4b75-b5b3-08a58b323e5f",
   "metadata": {},
   "outputs": [],
   "source": [
    "encoder = EncoderResnet()\n",
    "# decoder = Decoder()"
   ]
  },
  {
   "cell_type": "code",
   "execution_count": 4,
   "id": "9ed81c66-02e6-4efe-b8b0-27bdd8bcc024",
   "metadata": {},
   "outputs": [
    {
     "name": "stdout",
     "output_type": "stream",
     "text": [
      "EncoderResnet\n"
     ]
    }
   ],
   "source": [
    "print(encoder.__class__.__name__)\n",
    "classname = encoder.__class__.__name__"
   ]
  },
  {
   "cell_type": "code",
   "execution_count": 6,
   "id": "421737f6-7aba-4d3a-943b-e017a1c75e8a",
   "metadata": {},
   "outputs": [],
   "source": [
    "optimizer_G = torch.optim.Adam(itertools.chain(encoder.parameters(),decoder.parameters()), lr=0.00003,betas=(0.5, 0.999))"
   ]
  },
  {
   "cell_type": "code",
   "execution_count": 5,
   "id": "99812606-bc46-43ee-8def-c0b223a4a958",
   "metadata": {
    "scrolled": true,
    "tags": []
   },
   "outputs": [
    {
     "name": "stdout",
     "output_type": "stream",
     "text": [
      "index: 0\n",
      "torch.Size([1, 2048])\n",
      "---------------------------------------\n",
      "index: 1\n",
      "torch.Size([1, 2048])\n",
      "---------------------------------------\n",
      "index: 2\n",
      "torch.Size([1, 2048])\n",
      "---------------------------------------\n",
      "index: 3\n",
      "torch.Size([1, 2048])\n",
      "---------------------------------------\n",
      "index: 4\n",
      "torch.Size([1, 2048])\n",
      "---------------------------------------\n",
      "index: 5\n",
      "torch.Size([1, 2048])\n",
      "---------------------------------------\n",
      "index: 6\n",
      "torch.Size([1, 2048])\n",
      "---------------------------------------\n",
      "index: 7\n",
      "torch.Size([1, 2048])\n",
      "---------------------------------------\n",
      "index: 8\n",
      "torch.Size([1, 2048])\n",
      "---------------------------------------\n",
      "index: 9\n",
      "torch.Size([1, 2048])\n",
      "---------------------------------------\n",
      "index: 10\n",
      "torch.Size([1, 2048])\n",
      "---------------------------------------\n",
      "index: 11\n"
     ]
    }
   ],
   "source": [
    "# for i, data in enumerate(train_data_loader):\n",
    "#     print(\"index: {}\".format(i))\n",
    "#     if i > 10:\n",
    "#         break\n",
    "#     if (data['A'].shape[2] == 64):\n",
    "# #         print(data['A'])\n",
    "# #         print(data['A'].shape)\n",
    "# #         print(data['B'].shape)\n",
    "# #         print(data['A_paths'])\n",
    "# #         print(data['B'])\n",
    "#         lantent = encoder(data['A'])\n",
    "#         sig = decoder(lantent)\n",
    "# #         print(lantent)\n",
    "#         print(sig)\n",
    "#         print(data['B'])\n",
    "# #         optimizer_G.zero_grad()\n",
    "#         loss_np = lossnp(sig, data['B'])\n",
    "#         loss_final = 0.1*loss_np\n",
    "#         print(\"loss np:{}, final:{}\".format(loss_np, loss_final))\n",
    "# #         loss_final.backward()\n",
    "# #         optimizer_G.step()\n",
    "#     print(\"---------------------------------------\")\n",
    "\n",
    "for i, data in enumerate(train_data_loader):\n",
    "    print(\"index: {}\".format(i))\n",
    "    if i > 10:\n",
    "        break\n",
    "    if (data['A'].shape[2] == 64):\n",
    "#         print(data['A'])\n",
    "#         print(data['A'].shape)\n",
    "#         print(data['B'].shape)\n",
    "#         print(data['A_paths'])\n",
    "#         print(data['B'])\n",
    "        lantent = encoder(data['A'])\n",
    "        print(lantent.shape)\n",
    "#         sig = decoder(lantent)\n",
    "# #         print(lantent)\n",
    "#         print(sig)\n",
    "#         print(data['B'])\n",
    "# #         optimizer_G.zero_grad()\n",
    "#         loss_np = lossnp(sig, data['B'])\n",
    "#         loss_final = 0.1*loss_np\n",
    "#         print(\"loss np:{}, final:{}\".format(loss_np, loss_final))\n",
    "# #         loss_final.backward()\n",
    "# #         optimizer_G.step()\n",
    "    print(\"---------------------------------------\")"
   ]
  },
  {
   "cell_type": "code",
   "execution_count": null,
   "id": "34a9c48e-b314-4731-9610-b8d71dc6b5a0",
   "metadata": {},
   "outputs": [],
   "source": []
  },
  {
   "cell_type": "markdown",
   "id": "042ac2b2-360e-44e4-b9fc-b6cb5b7014a6",
   "metadata": {},
   "source": [
    "# test Pearson"
   ]
  },
  {
   "cell_type": "code",
   "execution_count": 13,
   "id": "933e8959-8bfe-4b1f-943b-de9edcccb7d8",
   "metadata": {},
   "outputs": [],
   "source": [
    "def pearson(vector1, vector2):\n",
    "    n = len(vector1)\n",
    "    #simple sums\n",
    "    sum1 = sum(float(vector1[i]) for i in range(n))\n",
    "    sum2 = sum(float(vector2[i]) for i in range(n))\n",
    "    #sum up the squares\n",
    "    sum1_pow = sum([pow(v, 2.0) for v in vector1])\n",
    "    sum2_pow = sum([pow(v, 2.0) for v in vector2])\n",
    "    #sum up the products\n",
    "    p_sum = sum([vector1[i]*vector2[i] for i in range(n)])\n",
    "    #分子num，分母den\n",
    "    num = p_sum - (sum1*sum2/n)\n",
    "    den = math.sqrt((sum1_pow-pow(sum1, 2)/n)*(sum2_pow-pow(sum2, 2)/n))\n",
    "    if den == 0:\n",
    "        return 0.0\n",
    "    return num/den\n"
   ]
  },
  {
   "cell_type": "code",
   "execution_count": 39,
   "id": "c7869f8c-e071-4871-bca8-38e9350cb8e6",
   "metadata": {},
   "outputs": [],
   "source": [
    "x = sig.squeeze(dim=0).detach().numpy()\n",
    "y = data['B'].squeeze(dim=0).detach().numpy()"
   ]
  },
  {
   "cell_type": "code",
   "execution_count": 45,
   "id": "7c31a363-61c2-478a-a487-cf4a20224fa9",
   "metadata": {},
   "outputs": [],
   "source": [
    "x = np.array([0, 1, 2, 3, 4, 5])\n",
    "y = np.array([23,34,245,26,242,42])\n",
    "p = pearson(x, y)"
   ]
  },
  {
   "cell_type": "code",
   "execution_count": 46,
   "id": "11c2b51d-7405-448d-a8fe-c6d61b7834c3",
   "metadata": {},
   "outputs": [
    {
     "name": "stdout",
     "output_type": "stream",
     "text": [
      "0.2433875406934647\n"
     ]
    }
   ],
   "source": [
    "print(p)"
   ]
  },
  {
   "cell_type": "code",
   "execution_count": 19,
   "id": "2604117a-e176-45ba-85a7-c0793c298b4a",
   "metadata": {},
   "outputs": [
    {
     "name": "stdout",
     "output_type": "stream",
     "text": [
      "tensor([0., 0., 0.], requires_grad=True)\n"
     ]
    }
   ],
   "source": [
    "lll = torch.zeros(3, requires_grad=True)\n",
    "print(lll)"
   ]
  },
  {
   "cell_type": "code",
   "execution_count": 20,
   "id": "03368480-6d79-4e76-a9f9-c80b00b4e0f9",
   "metadata": {},
   "outputs": [
    {
     "name": "stdout",
     "output_type": "stream",
     "text": [
      "tensor(0., grad_fn=<SumBackward0>)\n"
     ]
    }
   ],
   "source": [
    "xxx = torch.sum(lll)\n",
    "print(xxx)"
   ]
  },
  {
   "cell_type": "code",
   "execution_count": null,
   "id": "d9545927-e70a-42b3-a09f-d46867d23f31",
   "metadata": {},
   "outputs": [],
   "source": []
  }
 ],
 "metadata": {
  "kernelspec": {
   "display_name": "Python 3",
   "language": "python",
   "name": "python3"
  },
  "language_info": {
   "codemirror_mode": {
    "name": "ipython",
    "version": 3
   },
   "file_extension": ".py",
   "mimetype": "text/x-python",
   "name": "python",
   "nbconvert_exporter": "python",
   "pygments_lexer": "ipython3",
   "version": "3.8.10"
  }
 },
 "nbformat": 4,
 "nbformat_minor": 5
}
